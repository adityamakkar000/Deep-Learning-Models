{
 "cells": [
  {
   "cell_type": "code",
   "execution_count": 3,
   "metadata": {},
   "outputs": [],
   "source": [
    "import numpy as np"
   ]
  },
  {
   "cell_type": "code",
   "execution_count": 8,
   "metadata": {},
   "outputs": [],
   "source": [
    "a = np.arange(3)"
   ]
  },
  {
   "cell_type": "code",
   "execution_count": 9,
   "metadata": {},
   "outputs": [
    {
     "data": {
      "text/plain": [
       "array([[0.75841008, 0.54868016, 0.83428867, 0.27385056, 0.91753644,\n",
       "        0.08942583, 0.21275664, 0.38712002, 0.44738196, 0.7896003 ],\n",
       "       [0.67633079, 0.87801387, 0.11897228, 0.82442385, 0.56319763,\n",
       "        0.34887457, 0.58571101, 0.7563428 , 0.23349702, 0.89903099],\n",
       "       [0.88747378, 0.86488877, 0.61475251, 0.58124001, 0.10442912,\n",
       "        0.25763182, 0.06630175, 0.0089038 , 0.03738588, 0.42839326],\n",
       "       [0.03539434, 0.45719071, 0.09415967, 0.57879717, 0.25503488,\n",
       "        0.08870671, 0.96658742, 0.55322771, 0.06440132, 0.16539705],\n",
       "       [0.36089616, 0.69203234, 0.37574307, 0.85412597, 0.93688369,\n",
       "        0.81450029, 0.93680354, 0.61661656, 0.48130541, 0.56918184]])"
      ]
     },
     "execution_count": 9,
     "metadata": {},
     "output_type": "execute_result"
    }
   ],
   "source": [
    "b = np.random.rand(5,10)\n",
    "b"
   ]
  },
  {
   "cell_type": "code",
   "execution_count": 11,
   "metadata": {},
   "outputs": [
    {
     "data": {
      "text/plain": [
       "array([[0.67633079, 0.87801387, 0.11897228, 0.82442385, 0.56319763,\n",
       "        0.34887457, 0.58571101, 0.7563428 , 0.23349702, 0.89903099],\n",
       "       [0.88747378, 0.86488877, 0.61475251, 0.58124001, 0.10442912,\n",
       "        0.25763182, 0.06630175, 0.0089038 , 0.03738588, 0.42839326],\n",
       "       [0.03539434, 0.45719071, 0.09415967, 0.57879717, 0.25503488,\n",
       "        0.08870671, 0.96658742, 0.55322771, 0.06440132, 0.16539705]])"
      ]
     },
     "execution_count": 11,
     "metadata": {},
     "output_type": "execute_result"
    }
   ],
   "source": [
    "b[[1,2,3]]"
   ]
  },
  {
   "cell_type": "code",
   "execution_count": 12,
   "metadata": {},
   "outputs": [],
   "source": [
    "a = np.random.rand(3,4,5)\n",
    "b = np.random.rand(5,4)"
   ]
  },
  {
   "cell_type": "code",
   "execution_count": 14,
   "metadata": {},
   "outputs": [],
   "source": [
    "c = b @ a"
   ]
  },
  {
   "cell_type": "code",
   "execution_count": 15,
   "metadata": {},
   "outputs": [
    {
     "data": {
      "text/plain": [
       "(3, 5, 5)"
      ]
     },
     "execution_count": 15,
     "metadata": {},
     "output_type": "execute_result"
    }
   ],
   "source": [
    "c.shape"
   ]
  },
  {
   "cell_type": "code",
   "execution_count": null,
   "metadata": {},
   "outputs": [],
   "source": []
  }
 ],
 "metadata": {
  "kernelspec": {
   "display_name": "Python 3",
   "language": "python",
   "name": "python3"
  },
  "language_info": {
   "codemirror_mode": {
    "name": "ipython",
    "version": 3
   },
   "file_extension": ".py",
   "mimetype": "text/x-python",
   "name": "python",
   "nbconvert_exporter": "python",
   "pygments_lexer": "ipython3",
   "version": "3.12.4"
  }
 },
 "nbformat": 4,
 "nbformat_minor": 2
}
